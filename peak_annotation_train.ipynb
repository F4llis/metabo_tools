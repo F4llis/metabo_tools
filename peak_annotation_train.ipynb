{
 "cells": [
  {
   "cell_type": "code",
   "execution_count": 2,
   "metadata": {
    "collapsed": true,
    "pycharm": {
     "name": "#%%\n"
    }
   },
   "outputs": [],
   "source": [
    "import csv\n",
    "import numpy as np\n",
    "import pymzml\n",
    "import matplotlib.pyplot as plt\n",
    "import keras\n",
    "\n",
    "from keras.models import Sequential , Model\n",
    "from keras.layers import Dense\n",
    "from keras.layers import LSTM, Input\n",
    "from keras.layers import Embedding\n",
    "from keras.layers.convolutional import Conv1D\n",
    "from keras.layers.convolutional import MaxPooling1D\n",
    "\n",
    "from keras.preprocessing import sequence\n",
    "\n",
    "import tensorflow as tf\n",
    "import pandas as pd\n",
    "from sklearn.model_selection import train_test_split\n",
    "from sklearn.preprocessing import *"
   ]
  },
  {
   "cell_type": "code",
   "execution_count": 3,
   "outputs": [],
   "source": [
    "precision = 0.005 # m/z precision for raw data\n",
    "data_per_sec = 2 # spectrum per second\n",
    "half_time_window = 30 # time range before and after RT in sec\n",
    "number_ticks = half_time_window * 2 * data_per_sec  # number of spectrum per data\n",
    "intensity_treshold = 8000 #  everything under this will be annotated false\n",
    "\n",
    "data_folder = '../data/sara_training/'\n",
    "peak_clarkii= data_folder + 'clarkiiT0I1_peak_annotations.csv' # data with peak: mz, rt, Y/N\n",
    "mz_clarkii = data_folder + 'clarkiiT0I1.mzML'\n",
    "peak_viridis= data_folder + 'viridisT0I2_peak_annotations.csv' # data with peak: mz, rt, Y/N\n",
    "mz_viridis = data_folder + 'viridisT0I2.mzML'\n",
    "\n",
    "pickle_path = './output/pickle_training.npy'"
   ],
   "metadata": {
    "collapsed": false,
    "pycharm": {
     "name": "#%%\n"
    }
   }
  },
  {
   "cell_type": "code",
   "execution_count": 4,
   "outputs": [],
   "source": [
    "def get_data_mz(data_mz ,mz , retention_time):\n",
    "\n",
    "    run = pymzml.run.Reader(data_mz)\n",
    "\n",
    "    data = []\n",
    "\n",
    "    ticks_processed = 0\n",
    "\n",
    "    for i, scan in enumerate(run):\n",
    "\n",
    "        if scan.ms_level == 1:\n",
    "\n",
    "            t, measure = scan.scan_time  # get scan time\n",
    "\n",
    "            if t >= (retention_time-half_time_window):\n",
    "\n",
    "                ticks_processed +=1\n",
    "\n",
    "                mz_in_range = []\n",
    "                for d in scan.peaks('raw'):\n",
    "                    mz_scan = d[0]\n",
    "                    i_scan = d[1]\n",
    "\n",
    "                    if mz_scan >= mz - precision  and mz_scan <= mz + precision:\n",
    "                        mz_in_range.append(i_scan)\n",
    "\n",
    "                if not mz_in_range:\n",
    "                    data.append(0)\n",
    "                else:\n",
    "                    data.append(mz_in_range[0])\n",
    "\n",
    "                if ticks_processed == number_ticks:\n",
    "                    break\n",
    "\n",
    "    return data\n",
    "\n",
    "def build_data_ml(path, data_mz_path, annotation=True):\n",
    "\n",
    "    X_ = []\n",
    "    y_ = []\n",
    "    mz_ = []\n",
    "    rt_ = []\n",
    "\n",
    "\n",
    "    # get all Raw data\n",
    "    with open(path, newline='') as f:\n",
    "\n",
    "        it = 0\n",
    "        reader = csv.reader(f,delimiter=';')\n",
    "        for line in list(reader)[:1000]:\n",
    "\n",
    "            spectrum = get_data_mz(data_mz_path, float(line[1]), float(line[2])*60)\n",
    "\n",
    "            X_.append(spectrum)\n",
    "            if annotation:\n",
    "                y_.append(1 if line[6] == 'YES' else 0)\n",
    "            else:\n",
    "                y_.append(True)\n",
    "            mz_.append(float(line[1]))\n",
    "            rt_.append(float(line[2])*60)\n",
    "\n",
    "            it +=1\n",
    "            if it %50 == 0:\n",
    "                print(it)\n",
    "\n",
    "    return [X_, y_, mz_, rt_]\n",
    "\n",
    "class Factory:\n",
    "    def __init__(self):\n",
    "        self.X_ = []\n",
    "        self.y_ =  []\n",
    "        self.mz_ = []\n",
    "        self.rt_ =  []\n",
    "\n",
    "    def add_data(self, path_annotation, path_mz):\n",
    "        d = build_data_ml(path_annotation,path_mz )\n",
    "        self.X_ += d[0]\n",
    "        self.y_ +=  d[1]\n",
    "        self.mz_ += d[2]\n",
    "        self.rt_ +=  d[3]\n",
    "\n",
    "    def save(self, file_out):\n",
    "        with open(file_out, 'wb') as fi:\n",
    "            np.save(fi, np.asanyarray([self.X_,self.y_,self.mz_,self.rt_], dtype=object))\n",
    "\n",
    "    def load(self, file_out):\n",
    "        data = np.load(file_out, allow_pickle=True)\n",
    "        self.X_ = data[0]\n",
    "        self.y_ =  data[1]\n",
    "        self.mz_ = data[2]\n",
    "        self.rt_ =  data[3]\n"
   ],
   "metadata": {
    "collapsed": false,
    "pycharm": {
     "name": "#%%\n"
    }
   }
  },
  {
   "cell_type": "code",
   "execution_count": 5,
   "outputs": [
    {
     "name": "stdout",
     "output_type": "stream",
     "text": [
      "50\n",
      "100\n",
      "150\n",
      "200\n",
      "250\n",
      "300\n",
      "350\n",
      "400\n",
      "450\n",
      "500\n",
      "550\n",
      "600\n",
      "50\n",
      "100\n",
      "150\n",
      "200\n",
      "250\n",
      "300\n",
      "350\n"
     ]
    }
   ],
   "source": [
    "# Process input files and pickle it for later (only run once)\n",
    "data = Factory()\n",
    "data.add_data(peak_clarkii,mz_clarkii)\n",
    "data.add_data(peak_viridis,mz_viridis)\n",
    "data.save(pickle_path)"
   ],
   "metadata": {
    "collapsed": false,
    "pycharm": {
     "name": "#%%\n"
    }
   }
  },
  {
   "cell_type": "code",
   "execution_count": 8,
   "outputs": [
    {
     "data": {
      "text/plain": "\"\\nfor i in range(len(X_)):\\n    color = 'green' if y_[i] == 1 else 'red'\\n    yn = 'YES' if y_[i] == 1 else 'NO'\\n    plt.title(  str(i) + ' ' + yn + ' - ' + str(mz_[i]) + ' // ' + str(float(rt_[i])))\\n    plt.plot(X_[i], color=color)\\n    plt.show()\\n\""
     },
     "execution_count": 8,
     "metadata": {},
     "output_type": "execute_result"
    }
   ],
   "source": [
    "# Load data pickled\n",
    "data = np.load(pickle_path, allow_pickle=True)\n",
    "\n",
    "X_ = data[0]\n",
    "y_ =  data[1]\n",
    "mz_ = data[2]\n",
    "rt_ =  data[3]\n",
    "\n",
    "'''\n",
    "for i in range(len(X_)):\n",
    "    color = 'green' if y_[i] == 1 else 'red'\n",
    "    yn = 'YES' if y_[i] == 1 else 'NO'\n",
    "    plt.title(  str(i) + ' ' + yn + ' - ' + str(mz_[i]) + ' // ' + str(float(rt_[i])))\n",
    "    plt.plot(X_[i], color=color)\n",
    "    plt.show()\n",
    "'''\n"
   ],
   "metadata": {
    "collapsed": false,
    "pycharm": {
     "name": "#%%\n"
    }
   }
  },
  {
   "cell_type": "code",
   "execution_count": 9,
   "outputs": [],
   "source": [
    "def smooth(x,window_len=11,window='hanning'):\n",
    "    \"\"\"smooth the data using a window with requested size.\n",
    "\n",
    "    This method is based on the convolution of a scaled window with the signal.\n",
    "    The signal is prepared by introducing reflected copies of the signal\n",
    "    (with the window size) in both ends so that transient parts are minimized\n",
    "    in the begining and end part of the output signal.\n",
    "\n",
    "    input:\n",
    "        x: the input signal\n",
    "        window_len: the dimension of the smoothing window; should be an odd integer\n",
    "        window: the type of window from 'flat', 'hanning', 'hamming', 'bartlett', 'blackman'\n",
    "            flat window will produce a moving average smoothing.\n",
    "\n",
    "    output:\n",
    "        the smoothed signal\n",
    "\n",
    "    example:\n",
    "\n",
    "    t=linspace(-2,2,0.1)\n",
    "    x=sin(t)+randn(len(t))*0.1\n",
    "    y=smooth(x)\n",
    "\n",
    "    see also:\n",
    "\n",
    "    numpy.hanning, numpy.hamming, numpy.bartlett, numpy.blackman, numpy.convolve\n",
    "    scipy.signal.lfilter\n",
    "\n",
    "    TODO: the window parameter could be the window itself if an array instead of a string\n",
    "    NOTE: length(output) != length(input), to correct this: return y[(window_len/2-1):-(window_len/2)] instead of just y.\n",
    "    \"\"\"\n",
    "\n",
    "\n",
    "    if window_len<3:\n",
    "        return x\n",
    "\n",
    "\n",
    "    s=np.r_[x[window_len-1:0:-1],x,x[-2:-window_len-1:-1]]\n",
    "    #print(len(s))\n",
    "    if window == 'flat': #moving average\n",
    "        w=np.ones(window_len,'d')\n",
    "    else:\n",
    "        w=eval('np.'+window+'(window_len)')\n",
    "\n",
    "    y=np.convolve(w/w.sum(),s,mode='valid')\n",
    "    return y\n",
    "\n",
    "def NormalizeData(data):\n",
    "    if np.max(data) - np.min(data) == 0.0:\n",
    "        return data\n",
    "    return (data - np.min(data)) / (np.max(data) - np.min(data))\n"
   ],
   "metadata": {
    "collapsed": false,
    "pycharm": {
     "name": "#%%\n"
    }
   }
  },
  {
   "cell_type": "code",
   "execution_count": 10,
   "outputs": [],
   "source": [
    "df = pd.DataFrame(X_)\n",
    "\n",
    "df['y']= y_\n",
    "df['mz']= mz_\n",
    "df['rt']= rt_\n",
    "\n",
    "df['treshold_satisfied'] = df[0].apply(lambda x: 1 if np.amax(x) > intensity_treshold else 0)\n",
    "df['y'] = df['y'] & df['treshold_satisfied']\n",
    "df['y'] = df['y'].apply(lambda x: 1 if x == True else 0)\n",
    "\n",
    "df['norm'] = df[0].apply(lambda x: NormalizeData(x) )\n",
    "\n",
    "df['smooth'] = df[0].apply(lambda x: smooth(x) )\n",
    "df['smooth'] = df['smooth'].apply(lambda x: x[5:-5] )\n",
    "\n",
    "df['grad1'] = df['smooth'].apply(lambda x: np.gradient(x) )\n",
    "df['grad2'] = df['grad1'].apply(lambda x: np.gradient(x) )\n",
    "\n",
    "df['fft'] = df[0].apply(lambda x: np.fft.fft(x) )\n",
    "df['fftr'] = df['fft'].apply(lambda x: np.real(x) )\n",
    "df['ffti'] = df['fft'].apply(lambda x: np.real(np.imag(x)) )"
   ],
   "metadata": {
    "collapsed": false,
    "pycharm": {
     "name": "#%%\n"
    }
   }
  },
  {
   "cell_type": "code",
   "execution_count": 11,
   "outputs": [
    {
     "name": "stdout",
     "output_type": "stream",
     "text": [
      "(994, 241)\n",
      "(994, 120, 4)\n"
     ]
    }
   ],
   "source": [
    "xfft = np.hstack([np.array(df['treshold_satisfied']).reshape((len(df), -1)),np.vstack(df['fftr']), np.vstack(df['ffti'])] )\n",
    "print(xfft.shape)\n",
    "\n",
    "x = np.stack([ np.vstack(df['norm']), np.vstack(df['smooth']) ,\n",
    "              np.vstack(df['grad1']) , np.vstack(df['grad2'])  ] , axis = 2)\n",
    "print(x.shape)"
   ],
   "metadata": {
    "collapsed": false,
    "pycharm": {
     "name": "#%%\n"
    }
   }
  },
  {
   "cell_type": "code",
   "execution_count": 12,
   "outputs": [
    {
     "data": {
      "text/plain": "                                                     0  y          mz     rt  \\\n0    [0, 0, 0, 0, 0, 0, 0, 0, 0, 0, 0, 0, 0, 0, 0, ...  0  407.112924  122.4   \n1    [0, 0, 0, 0, 0, 0, 0, 0, 0, 0, 218.38938903808...  0  231.073496   73.8   \n2    [14512.8212890625, 15471.5283203125, 18927.275...  1  388.254627   89.4   \n3    [0, 109.23646545410156, 0, 130.23809814453125,...  1  134.117423  290.4   \n4    [0, 0, 0, 0, 0, 0, 0, 0, 0, 0, 0, 0, 0, 0, 0, ...  1   177.06155  624.6   \n..                                                 ... ..         ...    ...   \n989  [0, 0, 0, 0, 0, 0, 0, 0, 0, 0, 0, 0, 0, 0, 0, ...  0  566.888123  372.0   \n990  [0, 0, 0, 0, 0, 0, 0, 0, 0, 0, 0, 0, 0, 0, 0, ...  0  430.914116  372.0   \n991  [0, 0, 0, 0, 0, 0, 0, 0, 0, 0, 0, 0, 0, 0, 0, ...  0  906.824345  373.8   \n992  [0, 0, 0, 0, 0, 0, 0, 0, 0, 0, 0, 0, 0, 0, 0, ...  0  196.095473  402.6   \n993  [0, 0, 0, 0, 0, 0, 0, 0, 0, 0, 0, 0, 0, 0, 0, ...  0  212.068936  402.6   \n\n     treshold_satisfied                                               norm  \\\n0                     0  [0.0, 0.0, 0.0, 0.0, 0.0, 0.0, 0.0, 0.0, 0.0, ...   \n1                     0  [0.0, 0.0, 0.0, 0.0, 0.0, 0.0, 0.0, 0.0, 0.0, ...   \n2                     1  [0.08571052226425582, 0.09143104289394773, 0.1...   \n3                     1  [0.0, 0.0029103146279069935, 0.0, 0.0034698471...   \n4                     1  [0.0, 0.0, 0.0, 0.0, 0.0, 0.0, 0.0, 0.0, 0.0, ...   \n..                  ...                                                ...   \n989                   1  [0.0, 0.0, 0.0, 0.0, 0.0, 0.0, 0.0, 0.0, 0.0, ...   \n990                   1  [0.0, 0.0, 0.0, 0.0, 0.0, 0.0, 0.0, 0.0, 0.0, ...   \n991                   1  [0.0, 0.0, 0.0, 0.0, 0.0, 0.0, 0.0, 0.0, 0.0, ...   \n992                   0  [0.0, 0.0, 0.0, 0.0, 0.0, 0.0, 0.0, 0.0, 0.0, ...   \n993                   0  [0.0, 0.0, 0.0, 0.0, 0.0, 0.0, 0.0, 0.0, 0.0, ...   \n\n                                                smooth  \\\n0    [0.0, 0.0, 0.0, 0.0, 0.0, 0.0, 0.0, 0.0, 0.0, ...   \n1    [0.0, 0.0, 0.0, 0.0, 0.0, 0.0, 4.1708661915112...   \n2    [16984.30646835859, 17368.492186380572, 18509....   \n3    [57.52058698294407, 55.68224678098707, 50.8694...   \n4    [0.0, 0.0, 0.0, 0.0, 0.0, 0.0, 0.0, 0.0, 0.0, ...   \n..                                                 ...   \n989  [0.0, 0.0, 0.0, 0.0, 0.0, 0.0, 0.0, 0.0, 0.0, ...   \n990  [0.0, 0.0, 0.0, 0.0, 0.0, 0.0, 0.0, 0.0, 0.0, ...   \n991  [0.0, 0.0, 0.0, 0.0, 0.0, 0.0, 0.0, 0.0, 0.0, ...   \n992  [0.0, 0.0, 0.0, 0.0, 0.0, 0.0, 0.0, 0.0, 0.0, ...   \n993  [0.0, 0.0, 0.0, 0.0, 0.0, 0.0, 0.0, 0.0, 0.0, ...   \n\n                                                 grad1  \\\n0    [0.0, 0.0, 0.0, 0.0, 0.0, 0.0, 0.0, 0.0, 0.0, ...   \n1    [0.0, 0.0, 0.0, 0.0, 0.0, 2.085433095755629, 7...   \n2    [384.1857180219813, 762.4956545239947, 1491.67...   \n3    [-1.8383402019569957, -3.3255886667828776, -5....   \n4    [0.0, 0.0, 0.0, 0.0, 0.0, 0.0, 0.0, 0.0, 0.0, ...   \n..                                                 ...   \n989  [0.0, 0.0, 0.0, 0.0, 0.0, 0.0, 0.0, 0.0, 0.0, ...   \n990  [0.0, 0.0, 0.0, 0.0, 0.0, 0.0, 0.0, 0.0, 0.0, ...   \n991  [0.0, 0.0, 0.0, 0.0, 0.0, 0.0, 0.0, 0.0, 0.0, ...   \n992  [0.0, 0.0, 0.0, 0.0, 0.0, 0.0, 0.0, 0.0, 0.0, ...   \n993  [0.0, 0.0, 0.0, 0.0, 0.0, 0.0, 0.0, 0.0, 0.0, ...   \n\n                                                 grad2  \\\n0    [0.0, 0.0, 0.0, 0.0, 0.0, 0.0, 0.0, 0.0, 0.0, ...   \n1    [0.0, 0.0, 0.0, 0.0, 1.0427165478778144, 3.772...   \n2    [378.30993650201344, 553.7456176772148, 668.13...   \n3    [-1.487248464825882, -1.8750171421772475, -1.4...   \n4    [0.0, 0.0, 0.0, 0.0, 0.0, 0.0, 0.0, 0.0, 0.0, ...   \n..                                                 ...   \n989  [0.0, 0.0, 0.0, 0.0, 0.0, 0.0, 0.0, 0.0, 0.0, ...   \n990  [0.0, 0.0, 0.0, 0.0, 0.0, 0.0, 0.0, 0.0, 0.0, ...   \n991  [0.0, 0.0, 0.0, 0.0, 0.0, 0.0, 0.0, 0.0, 0.0, ...   \n992  [0.0, 0.0, 0.0, 0.0, 0.0, 0.0, 0.0, 0.0, 0.0, ...   \n993  [0.0, 0.0, 0.0, 0.0, 0.0, 0.0, 0.0, 0.0, 0.0, ...   \n\n                                                   fft  \\\n0    [(1830.8910064697266+0j), (-1810.590459979371-...   \n1    [(8529.173973083496+0j), (-5627.2446905404-900...   \n2    [(3128577.0594177246+0j), (-1334907.3012342255...   \n3    [(487235.67504119873+0j), (-343772.15341900906...   \n4    [(77865.11724090576+0j), (-64991.90851401366+3...   \n..                                                 ...   \n989  [(782262.0668945312+0j), (-91300.7861375781+41...   \n990  [(1173563.4569702148+0j), (-145697.11259987013...   \n991  [(671559.0030517578+0j), (-81267.03598285525+3...   \n992  [(26193.781784057617+0j), (-2797.6421614450846...   \n993  [(2764.9389724731445+0j), (2011.6400944225363+...   \n\n                                                  fftr  \\\n0    [1830.8910064697266, -1810.590459979371, 1750....   \n1    [8529.173973083496, -5627.2446905404, 4155.486...   \n2    [3128577.0594177246, -1334907.3012342255, 1611...   \n3    [487235.67504119873, -343772.15341900906, 1789...   \n4    [77865.11724090576, -64991.90851401366, 32680....   \n..                                                 ...   \n989  [782262.0668945312, -91300.7861375781, 63688.5...   \n990  [1173563.4569702148, -145697.11259987013, 9439...   \n991  [671559.0030517578, -81267.03598285525, 41872....   \n992  [26193.781784057617, -2797.6421614450846, 7284...   \n993  [2764.9389724731445, 2011.6400944225363, 1277....   \n\n                                                  ffti  \n0    [0.0, -27.515661838394657, 57.13847107271222, ...  \n1    [0.0, -900.8912393936953, -503.51457620629526,...  \n2    [0.0, -879171.2533476867, -367927.44320833404,...  \n3    [0.0, 136215.4095432649, -21500.875264179896, ...  \n4    [0.0, 39149.77058196768, -63233.24215895787, 6...  \n..                                                 ...  \n989  [0.0, 414586.42305416986, 51601.92428541789, 7...  \n990  [0.0, 613753.2974744083, 87812.60482923561, 97...  \n991  [0.0, 356934.080593044, 53232.14920768077, 581...  \n992  [0.0, 13989.088157450511, -1303.79932822619, 1...  \n993  [0.0, 1343.9721092231923, 1737.8965989415174, ...  \n\n[994 rows x 12 columns]",
      "text/html": "<div>\n<style scoped>\n    .dataframe tbody tr th:only-of-type {\n        vertical-align: middle;\n    }\n\n    .dataframe tbody tr th {\n        vertical-align: top;\n    }\n\n    .dataframe thead th {\n        text-align: right;\n    }\n</style>\n<table border=\"1\" class=\"dataframe\">\n  <thead>\n    <tr style=\"text-align: right;\">\n      <th></th>\n      <th>0</th>\n      <th>y</th>\n      <th>mz</th>\n      <th>rt</th>\n      <th>treshold_satisfied</th>\n      <th>norm</th>\n      <th>smooth</th>\n      <th>grad1</th>\n      <th>grad2</th>\n      <th>fft</th>\n      <th>fftr</th>\n      <th>ffti</th>\n    </tr>\n  </thead>\n  <tbody>\n    <tr>\n      <th>0</th>\n      <td>[0, 0, 0, 0, 0, 0, 0, 0, 0, 0, 0, 0, 0, 0, 0, ...</td>\n      <td>0</td>\n      <td>407.112924</td>\n      <td>122.4</td>\n      <td>0</td>\n      <td>[0.0, 0.0, 0.0, 0.0, 0.0, 0.0, 0.0, 0.0, 0.0, ...</td>\n      <td>[0.0, 0.0, 0.0, 0.0, 0.0, 0.0, 0.0, 0.0, 0.0, ...</td>\n      <td>[0.0, 0.0, 0.0, 0.0, 0.0, 0.0, 0.0, 0.0, 0.0, ...</td>\n      <td>[0.0, 0.0, 0.0, 0.0, 0.0, 0.0, 0.0, 0.0, 0.0, ...</td>\n      <td>[(1830.8910064697266+0j), (-1810.590459979371-...</td>\n      <td>[1830.8910064697266, -1810.590459979371, 1750....</td>\n      <td>[0.0, -27.515661838394657, 57.13847107271222, ...</td>\n    </tr>\n    <tr>\n      <th>1</th>\n      <td>[0, 0, 0, 0, 0, 0, 0, 0, 0, 0, 218.38938903808...</td>\n      <td>0</td>\n      <td>231.073496</td>\n      <td>73.8</td>\n      <td>0</td>\n      <td>[0.0, 0.0, 0.0, 0.0, 0.0, 0.0, 0.0, 0.0, 0.0, ...</td>\n      <td>[0.0, 0.0, 0.0, 0.0, 0.0, 0.0, 4.1708661915112...</td>\n      <td>[0.0, 0.0, 0.0, 0.0, 0.0, 2.085433095755629, 7...</td>\n      <td>[0.0, 0.0, 0.0, 0.0, 1.0427165478778144, 3.772...</td>\n      <td>[(8529.173973083496+0j), (-5627.2446905404-900...</td>\n      <td>[8529.173973083496, -5627.2446905404, 4155.486...</td>\n      <td>[0.0, -900.8912393936953, -503.51457620629526,...</td>\n    </tr>\n    <tr>\n      <th>2</th>\n      <td>[14512.8212890625, 15471.5283203125, 18927.275...</td>\n      <td>1</td>\n      <td>388.254627</td>\n      <td>89.4</td>\n      <td>1</td>\n      <td>[0.08571052226425582, 0.09143104289394773, 0.1...</td>\n      <td>[16984.30646835859, 17368.492186380572, 18509....</td>\n      <td>[384.1857180219813, 762.4956545239947, 1491.67...</td>\n      <td>[378.30993650201344, 553.7456176772148, 668.13...</td>\n      <td>[(3128577.0594177246+0j), (-1334907.3012342255...</td>\n      <td>[3128577.0594177246, -1334907.3012342255, 1611...</td>\n      <td>[0.0, -879171.2533476867, -367927.44320833404,...</td>\n    </tr>\n    <tr>\n      <th>3</th>\n      <td>[0, 109.23646545410156, 0, 130.23809814453125,...</td>\n      <td>1</td>\n      <td>134.117423</td>\n      <td>290.4</td>\n      <td>1</td>\n      <td>[0.0, 0.0029103146279069935, 0.0, 0.0034698471...</td>\n      <td>[57.52058698294407, 55.68224678098707, 50.8694...</td>\n      <td>[-1.8383402019569957, -3.3255886667828776, -5....</td>\n      <td>[-1.487248464825882, -1.8750171421772475, -1.4...</td>\n      <td>[(487235.67504119873+0j), (-343772.15341900906...</td>\n      <td>[487235.67504119873, -343772.15341900906, 1789...</td>\n      <td>[0.0, 136215.4095432649, -21500.875264179896, ...</td>\n    </tr>\n    <tr>\n      <th>4</th>\n      <td>[0, 0, 0, 0, 0, 0, 0, 0, 0, 0, 0, 0, 0, 0, 0, ...</td>\n      <td>1</td>\n      <td>177.06155</td>\n      <td>624.6</td>\n      <td>1</td>\n      <td>[0.0, 0.0, 0.0, 0.0, 0.0, 0.0, 0.0, 0.0, 0.0, ...</td>\n      <td>[0.0, 0.0, 0.0, 0.0, 0.0, 0.0, 0.0, 0.0, 0.0, ...</td>\n      <td>[0.0, 0.0, 0.0, 0.0, 0.0, 0.0, 0.0, 0.0, 0.0, ...</td>\n      <td>[0.0, 0.0, 0.0, 0.0, 0.0, 0.0, 0.0, 0.0, 0.0, ...</td>\n      <td>[(77865.11724090576+0j), (-64991.90851401366+3...</td>\n      <td>[77865.11724090576, -64991.90851401366, 32680....</td>\n      <td>[0.0, 39149.77058196768, -63233.24215895787, 6...</td>\n    </tr>\n    <tr>\n      <th>...</th>\n      <td>...</td>\n      <td>...</td>\n      <td>...</td>\n      <td>...</td>\n      <td>...</td>\n      <td>...</td>\n      <td>...</td>\n      <td>...</td>\n      <td>...</td>\n      <td>...</td>\n      <td>...</td>\n      <td>...</td>\n    </tr>\n    <tr>\n      <th>989</th>\n      <td>[0, 0, 0, 0, 0, 0, 0, 0, 0, 0, 0, 0, 0, 0, 0, ...</td>\n      <td>0</td>\n      <td>566.888123</td>\n      <td>372.0</td>\n      <td>1</td>\n      <td>[0.0, 0.0, 0.0, 0.0, 0.0, 0.0, 0.0, 0.0, 0.0, ...</td>\n      <td>[0.0, 0.0, 0.0, 0.0, 0.0, 0.0, 0.0, 0.0, 0.0, ...</td>\n      <td>[0.0, 0.0, 0.0, 0.0, 0.0, 0.0, 0.0, 0.0, 0.0, ...</td>\n      <td>[0.0, 0.0, 0.0, 0.0, 0.0, 0.0, 0.0, 0.0, 0.0, ...</td>\n      <td>[(782262.0668945312+0j), (-91300.7861375781+41...</td>\n      <td>[782262.0668945312, -91300.7861375781, 63688.5...</td>\n      <td>[0.0, 414586.42305416986, 51601.92428541789, 7...</td>\n    </tr>\n    <tr>\n      <th>990</th>\n      <td>[0, 0, 0, 0, 0, 0, 0, 0, 0, 0, 0, 0, 0, 0, 0, ...</td>\n      <td>0</td>\n      <td>430.914116</td>\n      <td>372.0</td>\n      <td>1</td>\n      <td>[0.0, 0.0, 0.0, 0.0, 0.0, 0.0, 0.0, 0.0, 0.0, ...</td>\n      <td>[0.0, 0.0, 0.0, 0.0, 0.0, 0.0, 0.0, 0.0, 0.0, ...</td>\n      <td>[0.0, 0.0, 0.0, 0.0, 0.0, 0.0, 0.0, 0.0, 0.0, ...</td>\n      <td>[0.0, 0.0, 0.0, 0.0, 0.0, 0.0, 0.0, 0.0, 0.0, ...</td>\n      <td>[(1173563.4569702148+0j), (-145697.11259987013...</td>\n      <td>[1173563.4569702148, -145697.11259987013, 9439...</td>\n      <td>[0.0, 613753.2974744083, 87812.60482923561, 97...</td>\n    </tr>\n    <tr>\n      <th>991</th>\n      <td>[0, 0, 0, 0, 0, 0, 0, 0, 0, 0, 0, 0, 0, 0, 0, ...</td>\n      <td>0</td>\n      <td>906.824345</td>\n      <td>373.8</td>\n      <td>1</td>\n      <td>[0.0, 0.0, 0.0, 0.0, 0.0, 0.0, 0.0, 0.0, 0.0, ...</td>\n      <td>[0.0, 0.0, 0.0, 0.0, 0.0, 0.0, 0.0, 0.0, 0.0, ...</td>\n      <td>[0.0, 0.0, 0.0, 0.0, 0.0, 0.0, 0.0, 0.0, 0.0, ...</td>\n      <td>[0.0, 0.0, 0.0, 0.0, 0.0, 0.0, 0.0, 0.0, 0.0, ...</td>\n      <td>[(671559.0030517578+0j), (-81267.03598285525+3...</td>\n      <td>[671559.0030517578, -81267.03598285525, 41872....</td>\n      <td>[0.0, 356934.080593044, 53232.14920768077, 581...</td>\n    </tr>\n    <tr>\n      <th>992</th>\n      <td>[0, 0, 0, 0, 0, 0, 0, 0, 0, 0, 0, 0, 0, 0, 0, ...</td>\n      <td>0</td>\n      <td>196.095473</td>\n      <td>402.6</td>\n      <td>0</td>\n      <td>[0.0, 0.0, 0.0, 0.0, 0.0, 0.0, 0.0, 0.0, 0.0, ...</td>\n      <td>[0.0, 0.0, 0.0, 0.0, 0.0, 0.0, 0.0, 0.0, 0.0, ...</td>\n      <td>[0.0, 0.0, 0.0, 0.0, 0.0, 0.0, 0.0, 0.0, 0.0, ...</td>\n      <td>[0.0, 0.0, 0.0, 0.0, 0.0, 0.0, 0.0, 0.0, 0.0, ...</td>\n      <td>[(26193.781784057617+0j), (-2797.6421614450846...</td>\n      <td>[26193.781784057617, -2797.6421614450846, 7284...</td>\n      <td>[0.0, 13989.088157450511, -1303.79932822619, 1...</td>\n    </tr>\n    <tr>\n      <th>993</th>\n      <td>[0, 0, 0, 0, 0, 0, 0, 0, 0, 0, 0, 0, 0, 0, 0, ...</td>\n      <td>0</td>\n      <td>212.068936</td>\n      <td>402.6</td>\n      <td>0</td>\n      <td>[0.0, 0.0, 0.0, 0.0, 0.0, 0.0, 0.0, 0.0, 0.0, ...</td>\n      <td>[0.0, 0.0, 0.0, 0.0, 0.0, 0.0, 0.0, 0.0, 0.0, ...</td>\n      <td>[0.0, 0.0, 0.0, 0.0, 0.0, 0.0, 0.0, 0.0, 0.0, ...</td>\n      <td>[0.0, 0.0, 0.0, 0.0, 0.0, 0.0, 0.0, 0.0, 0.0, ...</td>\n      <td>[(2764.9389724731445+0j), (2011.6400944225363+...</td>\n      <td>[2764.9389724731445, 2011.6400944225363, 1277....</td>\n      <td>[0.0, 1343.9721092231923, 1737.8965989415174, ...</td>\n    </tr>\n  </tbody>\n</table>\n<p>994 rows × 12 columns</p>\n</div>"
     },
     "execution_count": 12,
     "metadata": {},
     "output_type": "execute_result"
    }
   ],
   "source": [
    "df"
   ],
   "metadata": {
    "collapsed": false,
    "pycharm": {
     "name": "#%%\n"
    }
   }
  },
  {
   "cell_type": "code",
   "execution_count": 13,
   "outputs": [],
   "source": [
    "def ret_mats(df):\n",
    "    xfft = np.hstack( [np.array(df['treshold_satisfied']).reshape((len(df), -1)), np.vstack(df['fftr']), np.vstack(df['ffti'])] )\n",
    "    x = np.stack([ np.vstack(df['norm']), np.vstack(df['smooth']) ,\n",
    "              np.vstack(df['grad1']) , np.vstack(df['grad2'])  ] , axis = 2)\n",
    "    y = df.y.map(lambda x : float(x))\n",
    "\n",
    "    return x,xfft,y\n",
    "\n",
    "train, test = train_test_split(df, test_size=0.3)\n",
    "\n",
    "mats={'train':ret_mats(train), 'test':ret_mats(test)}"
   ],
   "metadata": {
    "collapsed": false,
    "pycharm": {
     "name": "#%%\n"
    }
   }
  },
  {
   "cell_type": "code",
   "execution_count": 14,
   "outputs": [
    {
     "name": "stdout",
     "output_type": "stream",
     "text": [
      "Model: \"model\"\n",
      "__________________________________________________________________________________________________\n",
      " Layer (type)                   Output Shape         Param #     Connected to                     \n",
      "==================================================================================================\n",
      " input_1 (InputLayer)           [(None, 120, 4)]     0           []                               \n",
      "                                                                                                  \n",
      " lstm (LSTM)                    (None, 120, 50)      11000       ['input_1[0][0]']                \n",
      "                                                                                                  \n",
      " lstm_1 (LSTM)                  (None, 120, 40)      14560       ['lstm[0][0]']                   \n",
      "                                                                                                  \n",
      " lstm_2 (LSTM)                  [(None, 30),         8520        ['lstm_1[0][0]']                 \n",
      "                                 (None, 30),                                                      \n",
      "                                 (None, 30)]                                                      \n",
      "                                                                                                  \n",
      " input_2 (InputLayer)           [(None, 241)]        0           []                               \n",
      "                                                                                                  \n",
      " concatenate (Concatenate)      (None, 331)          0           ['lstm_2[0][0]',                 \n",
      "                                                                  'lstm_2[0][1]',                 \n",
      "                                                                  'lstm_2[0][2]',                 \n",
      "                                                                  'input_2[0][0]']                \n",
      "                                                                                                  \n",
      " dropout (Dropout)              (None, 331)          0           ['concatenate[0][0]']            \n",
      "                                                                                                  \n",
      " dense (Dense)                  (None, 50)           16600       ['dropout[0][0]']                \n",
      "                                                                                                  \n",
      " dropout_1 (Dropout)            (None, 50)           0           ['dense[0][0]']                  \n",
      "                                                                                                  \n",
      " dense_1 (Dense)                (None, 25)           1275        ['dropout_1[0][0]']              \n",
      "                                                                                                  \n",
      " dense_2 (Dense)                (None, 1)            26          ['dense_1[0][0]']                \n",
      "                                                                                                  \n",
      "==================================================================================================\n",
      "Total params: 51,981\n",
      "Trainable params: 51,981\n",
      "Non-trainable params: 0\n",
      "__________________________________________________________________________________________________\n"
     ]
    }
   ],
   "source": [
    "model = None\n",
    "tf.config.run_functions_eagerly(True)\n",
    "\n",
    "inputvec = Input(shape=(120,4))\n",
    "inputfft = Input(shape=(241))\n",
    "\n",
    "lstm = LSTM(50,  return_sequences = True , return_state = False, dropout=0.2,\n",
    "    recurrent_dropout=0.2, go_backwards=True)\n",
    "\n",
    "whole_seq_output = lstm(inputvec)\n",
    "\n",
    "lstm2 = LSTM(40, return_sequences = True , return_state = False, dropout=0.2,\n",
    "    recurrent_dropout=0.2, go_backwards=True )\n",
    "\n",
    "whole_seq_output2 = lstm2(whole_seq_output)\n",
    "\n",
    "lstm3 = LSTM(30, return_sequences = False , return_state = True, dropout=0.2,\n",
    "    recurrent_dropout=0.2, go_backwards=True )\n",
    "\n",
    "final_memory_state, final_carry_state, whole_seq_output = lstm3(whole_seq_output2)\n",
    "\n",
    "dense_input = tf.keras.layers.Concatenate()([final_memory_state, final_carry_state,whole_seq_output, inputfft])\n",
    "dense_input = tf.keras.layers.Dropout(.2)(dense_input)\n",
    "output1 = Dense(50)(dense_input)\n",
    "output1 = tf.keras.layers.Dropout(.2)(output1)\n",
    "output = Dense(25)(output1)\n",
    "final = Dense(1,activation = 'sigmoid')(output)\n",
    "\n",
    "\n",
    "model = Model( inputs = [inputvec,inputfft] , outputs = final)\n",
    "\n",
    "opt = tf.keras.optimizers.Adam( learning_rate=0.001)\n",
    "\n",
    "model.compile(loss='binary_crossentropy', optimizer=opt, metrics=['accuracy'])\n",
    "model.summary()"
   ],
   "metadata": {
    "collapsed": false,
    "pycharm": {
     "name": "#%%\n"
    }
   }
  },
  {
   "cell_type": "code",
   "execution_count": 15,
   "outputs": [
    {
     "name": "stdout",
     "output_type": "stream",
     "text": [
      "Epoch 1/100\n"
     ]
    },
    {
     "name": "stderr",
     "output_type": "stream",
     "text": [
      "/Users/clementtrain/work/metabolomics/env_metabo/lib/python3.9/site-packages/tensorflow/python/data/ops/structured_function.py:264: UserWarning: Even though the `tf.config.experimental_run_functions_eagerly` option is set, this option does not apply to tf.data functions. To force eager execution of tf.data functions, please use `tf.data.experimental.enable_debug_mode()`.\n",
      "  warnings.warn(\n",
      "2022-08-20 20:41:37.151161: W tensorflow/core/platform/profile_utils/cpu_utils.cc:128] Failed to get CPU frequency: 0 Hz\n"
     ]
    },
    {
     "name": "stdout",
     "output_type": "stream",
     "text": [
      "3/3 [==============================] - 3s 962ms/step - loss: 71879.2734 - accuracy: 0.4604\n",
      "Epoch 2/100\n",
      "3/3 [==============================] - 3s 921ms/step - loss: 75681.9062 - accuracy: 0.4662\n",
      "Epoch 3/100\n",
      "3/3 [==============================] - 3s 932ms/step - loss: 41353.1172 - accuracy: 0.4446\n",
      "Epoch 4/100\n",
      "3/3 [==============================] - 3s 1s/step - loss: 39881.0820 - accuracy: 0.4676\n",
      "Epoch 5/100\n",
      "3/3 [==============================] - 3s 973ms/step - loss: 44404.5938 - accuracy: 0.4489\n",
      "Epoch 6/100\n",
      "3/3 [==============================] - 3s 990ms/step - loss: 33224.4766 - accuracy: 0.4619\n",
      "Epoch 7/100\n",
      "3/3 [==============================] - 3s 973ms/step - loss: 24913.9883 - accuracy: 0.4835\n",
      "Epoch 8/100\n",
      "3/3 [==============================] - 3s 973ms/step - loss: 31890.3535 - accuracy: 0.4791\n",
      "Epoch 9/100\n",
      "3/3 [==============================] - 3s 985ms/step - loss: 23370.6758 - accuracy: 0.4820\n",
      "Epoch 10/100\n",
      "3/3 [==============================] - 3s 930ms/step - loss: 19685.6641 - accuracy: 0.4820\n",
      "Epoch 11/100\n",
      "3/3 [==============================] - 3s 997ms/step - loss: 16184.1709 - accuracy: 0.4950\n",
      "Epoch 12/100\n",
      "3/3 [==============================] - 3s 1s/step - loss: 17419.0020 - accuracy: 0.5194\n",
      "Epoch 13/100\n",
      "3/3 [==============================] - 3s 1s/step - loss: 29428.5176 - accuracy: 0.5223\n",
      "Epoch 14/100\n",
      "3/3 [==============================] - 3s 1s/step - loss: 12604.8398 - accuracy: 0.5525\n",
      "Epoch 15/100\n",
      "3/3 [==============================] - 3s 1s/step - loss: 14057.8428 - accuracy: 0.5266\n",
      "Epoch 16/100\n",
      "3/3 [==============================] - 3s 1s/step - loss: 15112.9482 - accuracy: 0.5324\n",
      "Epoch 17/100\n",
      "3/3 [==============================] - 3s 1s/step - loss: 14130.6475 - accuracy: 0.5626\n",
      "Epoch 18/100\n",
      "3/3 [==============================] - 3s 1s/step - loss: 13070.7139 - accuracy: 0.5827\n",
      "Epoch 19/100\n",
      "3/3 [==============================] - 3s 998ms/step - loss: 38018.7383 - accuracy: 0.5928\n",
      "Epoch 20/100\n",
      "3/3 [==============================] - 3s 997ms/step - loss: 20324.5117 - accuracy: 0.6158\n",
      "Epoch 21/100\n",
      "3/3 [==============================] - 3s 998ms/step - loss: 13510.9238 - accuracy: 0.6201\n",
      "Epoch 22/100\n",
      "3/3 [==============================] - 3s 996ms/step - loss: 18327.3730 - accuracy: 0.6029\n",
      "Epoch 23/100\n",
      "3/3 [==============================] - 3s 1s/step - loss: 10365.3848 - accuracy: 0.6388\n",
      "Epoch 24/100\n",
      "3/3 [==============================] - 3s 997ms/step - loss: 25698.0312 - accuracy: 0.6288\n",
      "Epoch 25/100\n",
      "3/3 [==============================] - 3s 998ms/step - loss: 10731.9189 - accuracy: 0.6360\n",
      "Epoch 26/100\n",
      "3/3 [==============================] - 3s 959ms/step - loss: 9351.7852 - accuracy: 0.6662\n",
      "Epoch 27/100\n",
      "3/3 [==============================] - 3s 1s/step - loss: 13009.9600 - accuracy: 0.6906\n",
      "Epoch 28/100\n",
      "3/3 [==============================] - 3s 997ms/step - loss: 10189.0811 - accuracy: 0.6791\n",
      "Epoch 29/100\n",
      "3/3 [==============================] - 3s 999ms/step - loss: 10532.1270 - accuracy: 0.6849\n",
      "Epoch 30/100\n",
      "3/3 [==============================] - 3s 966ms/step - loss: 10228.3125 - accuracy: 0.6993\n",
      "Epoch 31/100\n",
      "3/3 [==============================] - 3s 1s/step - loss: 13979.7627 - accuracy: 0.6978\n",
      "Epoch 32/100\n",
      "3/3 [==============================] - 3s 1000ms/step - loss: 7107.9805 - accuracy: 0.6849\n",
      "Epoch 33/100\n",
      "3/3 [==============================] - 3s 1s/step - loss: 11816.3945 - accuracy: 0.6892\n",
      "Epoch 34/100\n",
      "3/3 [==============================] - 3s 1s/step - loss: 8498.4932 - accuracy: 0.7137\n",
      "Epoch 35/100\n",
      "3/3 [==============================] - 3s 990ms/step - loss: 27461.5996 - accuracy: 0.6993\n",
      "Epoch 36/100\n",
      "3/3 [==============================] - 3s 984ms/step - loss: 8232.1787 - accuracy: 0.6978\n",
      "Epoch 37/100\n",
      "3/3 [==============================] - 3s 990ms/step - loss: 8593.1875 - accuracy: 0.6820\n",
      "Epoch 38/100\n",
      "3/3 [==============================] - 3s 987ms/step - loss: 7960.0894 - accuracy: 0.6734\n",
      "Epoch 39/100\n",
      "3/3 [==============================] - 3s 986ms/step - loss: 9991.5859 - accuracy: 0.6906\n",
      "Epoch 40/100\n",
      "3/3 [==============================] - 3s 987ms/step - loss: 7276.7153 - accuracy: 0.7050\n",
      "Epoch 41/100\n",
      "3/3 [==============================] - 3s 987ms/step - loss: 5375.7554 - accuracy: 0.7194\n",
      "Epoch 42/100\n",
      "3/3 [==============================] - 3s 946ms/step - loss: 6889.8857 - accuracy: 0.7381\n",
      "Epoch 43/100\n",
      "3/3 [==============================] - 3s 991ms/step - loss: 5020.6118 - accuracy: 0.7309\n",
      "Epoch 44/100\n",
      "3/3 [==============================] - 3s 995ms/step - loss: 5663.9067 - accuracy: 0.7410\n",
      "Epoch 45/100\n",
      "3/3 [==============================] - 3s 990ms/step - loss: 6471.0107 - accuracy: 0.7496\n",
      "Epoch 46/100\n",
      "3/3 [==============================] - 3s 956ms/step - loss: 11111.2695 - accuracy: 0.7209\n",
      "Epoch 47/100\n",
      "3/3 [==============================] - 3s 988ms/step - loss: 6291.3281 - accuracy: 0.7237\n",
      "Epoch 48/100\n",
      "3/3 [==============================] - 3s 984ms/step - loss: 7404.3604 - accuracy: 0.7151\n",
      "Epoch 49/100\n",
      "3/3 [==============================] - 3s 988ms/step - loss: 6143.7188 - accuracy: 0.7309\n",
      "Epoch 50/100\n",
      "3/3 [==============================] - 3s 984ms/step - loss: 8945.9766 - accuracy: 0.7036\n",
      "Epoch 51/100\n",
      "3/3 [==============================] - 3s 986ms/step - loss: 5593.2080 - accuracy: 0.7324\n",
      "Epoch 52/100\n",
      "3/3 [==============================] - 3s 986ms/step - loss: 6321.0107 - accuracy: 0.7309\n",
      "Epoch 53/100\n",
      "3/3 [==============================] - 3s 989ms/step - loss: 7961.0015 - accuracy: 0.7309\n",
      "Epoch 54/100\n",
      "3/3 [==============================] - 3s 985ms/step - loss: 10340.9463 - accuracy: 0.7424\n",
      "Epoch 55/100\n",
      "3/3 [==============================] - 3s 988ms/step - loss: 10572.7012 - accuracy: 0.7655\n",
      "Epoch 56/100\n",
      "3/3 [==============================] - 3s 997ms/step - loss: 6415.6006 - accuracy: 0.7410\n",
      "Epoch 57/100\n",
      "3/3 [==============================] - 3s 986ms/step - loss: 12183.7656 - accuracy: 0.7108\n",
      "Epoch 58/100\n",
      "3/3 [==============================] - 3s 953ms/step - loss: 11131.8115 - accuracy: 0.6950\n",
      "Epoch 59/100\n",
      "3/3 [==============================] - 3s 986ms/step - loss: 7095.7314 - accuracy: 0.7180\n",
      "Epoch 60/100\n",
      "3/3 [==============================] - 3s 983ms/step - loss: 9549.0029 - accuracy: 0.7180\n",
      "Epoch 61/100\n",
      "3/3 [==============================] - 3s 983ms/step - loss: 7652.2017 - accuracy: 0.7266\n",
      "Epoch 62/100\n",
      "3/3 [==============================] - 3s 945ms/step - loss: 6307.2764 - accuracy: 0.7281\n",
      "Epoch 63/100\n",
      "3/3 [==============================] - 3s 987ms/step - loss: 6611.2900 - accuracy: 0.7338\n",
      "Epoch 64/100\n",
      "3/3 [==============================] - 3s 985ms/step - loss: 6213.2568 - accuracy: 0.7496\n",
      "Epoch 65/100\n",
      "3/3 [==============================] - 3s 985ms/step - loss: 9869.5137 - accuracy: 0.7626\n",
      "Epoch 66/100\n",
      "3/3 [==============================] - 3s 989ms/step - loss: 6047.3267 - accuracy: 0.7683\n",
      "Epoch 67/100\n",
      "3/3 [==============================] - 3s 983ms/step - loss: 11402.0127 - accuracy: 0.7813\n",
      "Epoch 68/100\n",
      "3/3 [==============================] - 3s 987ms/step - loss: 4304.8096 - accuracy: 0.7669\n",
      "Epoch 69/100\n",
      "3/3 [==============================] - 3s 986ms/step - loss: 10067.6152 - accuracy: 0.7511\n",
      "Epoch 70/100\n",
      "3/3 [==============================] - 3s 981ms/step - loss: 7367.6963 - accuracy: 0.7338\n",
      "Epoch 71/100\n",
      "3/3 [==============================] - 3s 991ms/step - loss: 5907.6890 - accuracy: 0.7381\n",
      "Epoch 72/100\n",
      "3/3 [==============================] - 3s 980ms/step - loss: 5788.2368 - accuracy: 0.7367\n",
      "Epoch 73/100\n",
      "3/3 [==============================] - 3s 981ms/step - loss: 5234.3203 - accuracy: 0.7554\n",
      "Epoch 74/100\n",
      "3/3 [==============================] - 3s 943ms/step - loss: 4682.7681 - accuracy: 0.7626\n",
      "Epoch 75/100\n",
      "3/3 [==============================] - 3s 982ms/step - loss: 6471.9453 - accuracy: 0.7669\n",
      "Epoch 76/100\n",
      "3/3 [==============================] - 3s 982ms/step - loss: 6738.7231 - accuracy: 0.7669\n",
      "Epoch 77/100\n",
      "3/3 [==============================] - 3s 985ms/step - loss: 10474.3223 - accuracy: 0.7640\n",
      "Epoch 78/100\n",
      "3/3 [==============================] - 3s 947ms/step - loss: 5336.6797 - accuracy: 0.7583\n",
      "Epoch 79/100\n",
      "3/3 [==============================] - 3s 986ms/step - loss: 4672.4692 - accuracy: 0.7367\n",
      "Epoch 80/100\n",
      "3/3 [==============================] - 3s 984ms/step - loss: 5068.2710 - accuracy: 0.7424\n",
      "Epoch 81/100\n",
      "3/3 [==============================] - 3s 984ms/step - loss: 5374.6851 - accuracy: 0.7525\n",
      "Epoch 82/100\n",
      "3/3 [==============================] - 3s 980ms/step - loss: 6673.2720 - accuracy: 0.7511\n",
      "Epoch 83/100\n",
      "3/3 [==============================] - 3s 983ms/step - loss: 6777.8491 - accuracy: 0.7468\n",
      "Epoch 84/100\n",
      "3/3 [==============================] - 3s 983ms/step - loss: 5571.4692 - accuracy: 0.7353\n",
      "Epoch 85/100\n",
      "3/3 [==============================] - 3s 988ms/step - loss: 6227.3813 - accuracy: 0.7252\n",
      "Epoch 86/100\n",
      "3/3 [==============================] - 3s 982ms/step - loss: 4050.6284 - accuracy: 0.7453\n",
      "Epoch 87/100\n",
      "3/3 [==============================] - 3s 982ms/step - loss: 5174.1143 - accuracy: 0.7525\n",
      "Epoch 88/100\n",
      "3/3 [==============================] - 3s 982ms/step - loss: 5353.3428 - accuracy: 0.7525\n",
      "Epoch 89/100\n",
      "3/3 [==============================] - 3s 981ms/step - loss: 3259.0234 - accuracy: 0.7871\n",
      "Epoch 90/100\n",
      "3/3 [==============================] - 3s 942ms/step - loss: 3543.8276 - accuracy: 0.7928\n",
      "Epoch 91/100\n",
      "3/3 [==============================] - 3s 982ms/step - loss: 8388.7939 - accuracy: 0.7784\n",
      "Epoch 92/100\n",
      "3/3 [==============================] - 3s 984ms/step - loss: 3536.9526 - accuracy: 0.7856\n",
      "Epoch 93/100\n",
      "3/3 [==============================] - 3s 985ms/step - loss: 2555.0657 - accuracy: 0.8000\n",
      "Epoch 94/100\n",
      "3/3 [==============================] - 3s 948ms/step - loss: 3379.3792 - accuracy: 0.7727\n",
      "Epoch 95/100\n",
      "3/3 [==============================] - 3s 986ms/step - loss: 3968.0078 - accuracy: 0.7957\n",
      "Epoch 96/100\n",
      "3/3 [==============================] - 3s 982ms/step - loss: 3875.1118 - accuracy: 0.7842\n",
      "Epoch 97/100\n",
      "3/3 [==============================] - 3s 983ms/step - loss: 3995.1111 - accuracy: 0.8029\n",
      "Epoch 98/100\n",
      "3/3 [==============================] - 3s 984ms/step - loss: 6346.3652 - accuracy: 0.7986\n",
      "Epoch 99/100\n",
      "3/3 [==============================] - 3s 984ms/step - loss: 3201.4734 - accuracy: 0.7942\n",
      "Epoch 100/100\n",
      "3/3 [==============================] - 3s 983ms/step - loss: 2912.8733 - accuracy: 0.7856\n"
     ]
    }
   ],
   "source": [
    "history = model.fit([mats['train'][0], mats['train'][1]], mats['train'][2], epochs=100, batch_size=250)\n"
   ],
   "metadata": {
    "collapsed": false,
    "pycharm": {
     "name": "#%%\n"
    }
   }
  },
  {
   "cell_type": "code",
   "execution_count": 18,
   "outputs": [
    {
     "data": {
      "text/plain": "<Figure size 640x480 with 1 Axes>",
      "image/png": "[encoded data removed]"
     },
     "metadata": {},
     "output_type": "display_data"
    }
   ],
   "source": [
    "plt.plot(history.history['loss'])\n",
    "plt.title('model loss')\n",
    "plt.ylabel('loss')\n",
    "plt.xlabel('epoch')\n",
    "plt.show()"
   ],
   "metadata": {
    "collapsed": false,
    "pycharm": {
     "name": "#%%\n"
    }
   }
  },
  {
   "cell_type": "code",
   "execution_count": 19,
   "outputs": [
    {
     "data": {
      "text/plain": "<Figure size 640x480 with 1 Axes>",
      "image/png": "[encoded data removed]"
     },
     "metadata": {},
     "output_type": "display_data"
    }
   ],
   "source": [
    "plt.plot(history.history['accuracy'])\n",
    "plt.title('model accuracy')\n",
    "plt.ylabel('accuracy')\n",
    "plt.xlabel('epoch')\n",
    "plt.show()\n"
   ],
   "metadata": {
    "collapsed": false,
    "pycharm": {
     "name": "#%%\n"
    }
   }
  },
  {
   "cell_type": "code",
   "execution_count": 20,
   "outputs": [
    {
     "name": "stderr",
     "output_type": "stream",
     "text": [
      "/Users/clementtrain/work/metabolomics/env_metabo/lib/python3.9/site-packages/tensorflow/python/data/ops/structured_function.py:264: UserWarning: Even though the `tf.config.experimental_run_functions_eagerly` option is set, this option does not apply to tf.data functions. To force eager execution of tf.data functions, please use `tf.data.experimental.enable_debug_mode()`.\n",
      "  warnings.warn(\n"
     ]
    },
    {
     "name": "stdout",
     "output_type": "stream",
     "text": [
      "10/10 [==============================] - 4s 362ms/step - loss: 14016.4229 - accuracy: 0.7826\n"
     ]
    }
   ],
   "source": [
    "scores = model.evaluate([ mats['test'][0], mats['test'][1]], mats['test'][2], verbose=1)"
   ],
   "metadata": {
    "collapsed": false,
    "pycharm": {
     "name": "#%%\n"
    }
   }
  },
  {
   "cell_type": "code",
   "execution_count": 24,
   "outputs": [
    {
     "name": "stdout",
     "output_type": "stream",
     "text": [
      "INFO:tensorflow:Assets written to: output/model_peak/assets\n"
     ]
    }
   ],
   "source": [
    "model.save('output/model_peak')"
   ],
   "metadata": {
    "collapsed": false,
    "pycharm": {
     "name": "#%%\n"
    }
   }
  },
  {
   "cell_type": "code",
   "execution_count": 21,
   "outputs": [
    {
     "name": "stderr",
     "output_type": "stream",
     "text": [
      "/Users/clementtrain/work/metabolomics/env_metabo/lib/python3.9/site-packages/tensorflow/python/data/ops/structured_function.py:264: UserWarning: Even though the `tf.config.experimental_run_functions_eagerly` option is set, this option does not apply to tf.data functions. To force eager execution of tf.data functions, please use `tf.data.experimental.enable_debug_mode()`.\n",
      "  warnings.warn(\n"
     ]
    },
    {
     "name": "stdout",
     "output_type": "stream",
     "text": [
      "10/10 [==============================] - 4s 352ms/step\n"
     ]
    }
   ],
   "source": [
    "pre_raw = model.predict([ mats['test'][0], mats['test'][1]])\n",
    "\n",
    "pre = []\n",
    "\n",
    "for pr in pre_raw:\n",
    "    if pr > 0.5:\n",
    "        pre.append(1)\n",
    "    else:\n",
    "        pre.append(0)\n"
   ],
   "metadata": {
    "collapsed": false,
    "pycharm": {
     "name": "#%%\n"
    }
   }
  },
  {
   "cell_type": "code",
   "execution_count": null,
   "outputs": [],
   "source": [
    "false = 0\n",
    "small_all = 0\n",
    "\n",
    "fp = 0\n",
    "tp = 0\n",
    "fn = 0\n",
    "tn = 0\n",
    "\n",
    "fp_small = 0\n",
    "fn_small = 0\n",
    "\n",
    "\n",
    "cpt =0\n",
    "\n",
    "for p in pre:\n",
    "\n",
    "    df_key = list(mats['test'][2].keys())[cpt]\n",
    "\n",
    "    dfdf = df[0][df_key]\n",
    "\n",
    "    if max(dfdf) < 8000:\n",
    "        small_all +=1\n",
    "\n",
    "    if p != list(mats['test'][2])[cpt]:\n",
    "\n",
    "        if p == 1:\n",
    "            fp +=1\n",
    "        else:\n",
    "            fn +=1\n",
    "\n",
    "\n",
    "        plt.title( str(df['mz'][df_key]) )\n",
    "        color = 'green' if p == 1 else 'red'\n",
    "        plt.plot(dfdf , color = color)\n",
    "        plt.show()\n",
    "\n",
    "        if max(dfdf) < 8000:\n",
    "            if p == 1:\n",
    "                fp_small +=1\n",
    "            else:\n",
    "                fn_small +=1\n",
    "\n",
    "        false +=1\n",
    "\n",
    "\n",
    "    else:\n",
    "        if p == 1:\n",
    "            tp +=1\n",
    "        else:\n",
    "            tn +=1\n",
    "\n",
    "    cpt +=1\n",
    "\n"
   ],
   "metadata": {
    "collapsed": false,
    "pycharm": {
     "name": "#%%\n",
     "is_executing": true
    }
   }
  },
  {
   "cell_type": "code",
   "execution_count": 23,
   "outputs": [
    {
     "name": "stdout",
     "output_type": "stream",
     "text": [
      "Predicted Features:  299\n",
      "False Predictions:  65\n",
      "% Good:  78.26086956521739\n",
      "\n",
      "\n",
      "Precision:  64.63414634146342\n",
      "Recall:  93.80530973451327\n",
      "\n",
      "\n",
      "< 8000  FP:  33\n",
      "< 8000  FN:  0\n",
      "< 8000 Totals:  150\n",
      "\n",
      "\n",
      "Corrected Precision:  80.91603053435115\n",
      "Corrected Recall:  93.80530973451327\n",
      "Corrected % Good:  89.29765886287625\n"
     ]
    }
   ],
   "source": [
    "total = len( mats['test'][0])\n",
    "print('Predicted Features: ', total)\n",
    "print('False Predictions: ', false)\n",
    "print('% Good: ', (total-false)/total*100)\n",
    "print('\\n')\n",
    "\n",
    "print('Precision: ', (100 * tp)/ (tp+fp) )\n",
    "print('Recall: ', (100 * tp/ (tp+fn) ))\n",
    "print('\\n')\n",
    "\n",
    "print('< 8000  FP: ', fp_small)\n",
    "print('< 8000  FN: ', fn_small)\n",
    "print('< 8000 Totals: ', small_all)\n",
    "print('\\n')\n",
    "\n",
    "print('Corrected Precision: ', (100 * tp)/ (tp+fp-fp_small) )\n",
    "print('Corrected Recall: ', (100 * tp/ (tp+fn-fn_small) ))\n",
    "print('Corrected % Good: ', (total-false+fp_small)/total*100)"
   ],
   "metadata": {
    "collapsed": false,
    "pycharm": {
     "name": "#%%\n"
    }
   }
  },
  {
   "cell_type": "code",
   "execution_count": null,
   "outputs": [],
   "source": [],
   "metadata": {
    "collapsed": false,
    "pycharm": {
     "name": "#%%\n"
    }
   }
  }
 ],
 "metadata": {
  "kernelspec": {
   "display_name": "Python 3",
   "language": "python",
   "name": "python3"
  },
  "language_info": {
   "codemirror_mode": {
    "name": "ipython",
    "version": 2
   },
   "file_extension": ".py",
   "mimetype": "text/x-python",
   "name": "python",
   "nbconvert_exporter": "python",
   "pygments_lexer": "ipython2",
   "version": "2.7.6"
  }
 },
 "nbformat": 4,
 "nbformat_minor": 0
}